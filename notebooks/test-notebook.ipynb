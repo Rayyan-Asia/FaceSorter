{
 "cells": [
  {
   "cell_type": "code",
   "execution_count": 3,
   "id": "583341d5-3e16-407d-b35f-4699643c0d3c",
   "metadata": {
    "is_executing": true
   },
   "outputs": [],
   "source": [
    "import os\n",
    "import glob\n",
    "\n",
    "def read_image_paths(directory):\n",
    "    image_paths = []\n",
    "    for folder in os.listdir(directory):\n",
    "        folder_path = os.path.join(directory, folder)\n",
    "        if os.path.isdir(folder_path):\n",
    "            image_files = glob.glob(os.path.join(folder_path, '*.jpg'))\n",
    "            image_paths.extend(image_files)\n",
    "    return image_paths\n"
   ]
  },
  {
   "cell_type": "code",
   "execution_count": 4,
   "id": "41b5b36dc65cdd50",
   "metadata": {},
   "outputs": [],
   "source": [
    "import cv2\n",
    "import dlib\n",
    "import face_recognition\n",
    "\n",
    "\n",
    "def detect_faces(image_path):\n",
    "    # Load the image\n",
    "    loaded_image = face_recognition.load_image_file(image_path)\n",
    "    face_encodings = face_recognition.face_encodings(loaded_image)\n",
    "    return face_encodings\n",
    "\n",
    "def create_faces_map(image_paths):\n",
    "    faces_map = {}\n",
    "    for image_path in image_paths:\n",
    "        # Detect faces in the image\n",
    "        faces = detect_faces(image_path)\n",
    "        # Add the image path and corresponding faces to the map\n",
    "        faces_map[image_path] = list(faces)\n",
    "    return faces_map"
   ]
  },
  {
   "cell_type": "code",
   "execution_count": 5,
   "id": "cb11b7bb",
   "metadata": {},
   "outputs": [],
   "source": [
    "directory_path = './test_data'\n",
    "image_paths = read_image_paths(directory_path)\n",
    "faces_map = create_faces_map(image_paths)"
   ]
  },
  {
   "cell_type": "code",
   "execution_count": 6,
   "id": "0471cefa",
   "metadata": {},
   "outputs": [],
   "source": [
    "def group_matched_faces(faces_map):\n",
    "    grouped_face_map = {}\n",
    "    i = 0\n",
    "    for key,value in faces_map.items():\n",
    "        for face in value:\n",
    "            face_recognition.compare_faces([person1_face_encoding], person2_face_encoding)\n",
    "        \n"
   ]
  },
  {
   "cell_type": "code",
   "execution_count": 57,
   "id": "9218297b",
   "metadata": {},
   "outputs": [
    {
     "name": "stdout",
     "output_type": "stream",
     "text": [
      "./test_data/Zydrunas_Ilgauskas/Zydrunas_Ilgauskas_0001.jpg\n",
      "./test_data/Zorica_Radovic/Zorica_Radovic_0001.jpg\n",
      "./test_data/Ziwang_Xu/Ziwang_Xu_0001.jpg\n"
     ]
    }
   ],
   "source": [
    "group_matched_faces(faces_map)"
   ]
  },
  {
   "cell_type": "code",
   "execution_count": null,
   "id": "674329ce",
   "metadata": {},
   "outputs": [],
   "source": []
  }
 ],
 "metadata": {
  "kernelspec": {
   "display_name": "Python 3 (ipykernel)",
   "language": "python",
   "name": "python3"
  },
  "language_info": {
   "codemirror_mode": {
    "name": "ipython",
    "version": 3
   },
   "file_extension": ".py",
   "mimetype": "text/x-python",
   "name": "python",
   "nbconvert_exporter": "python",
   "pygments_lexer": "ipython3",
   "version": "3.10.12"
  }
 },
 "nbformat": 4,
 "nbformat_minor": 5
}
