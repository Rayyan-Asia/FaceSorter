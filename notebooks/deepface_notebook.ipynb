{
 "cells": [
  {
   "cell_type": "code",
   "execution_count": 1,
   "id": "5743b9c6",
   "metadata": {},
   "outputs": [
    {
     "name": "stderr",
     "output_type": "stream",
     "text": [
      "2024-03-10 00:13:14.500822: I tensorflow/core/util/port.cc:110] oneDNN custom operations are on. You may see slightly different numerical results due to floating-point round-off errors from different computation orders. To turn them off, set the environment variable `TF_ENABLE_ONEDNN_OPTS=0`.\n",
      "2024-03-10 00:13:14.502390: I tensorflow/tsl/cuda/cudart_stub.cc:28] Could not find cuda drivers on your machine, GPU will not be used.\n",
      "2024-03-10 00:13:14.533378: I tensorflow/tsl/cuda/cudart_stub.cc:28] Could not find cuda drivers on your machine, GPU will not be used.\n",
      "2024-03-10 00:13:14.533895: I tensorflow/core/platform/cpu_feature_guard.cc:182] This TensorFlow binary is optimized to use available CPU instructions in performance-critical operations.\n",
      "To enable the following instructions: AVX2 AVX512F AVX512_VNNI FMA, in other operations, rebuild TensorFlow with the appropriate compiler flags.\n",
      "2024-03-10 00:13:15.005813: W tensorflow/compiler/tf2tensorrt/utils/py_utils.cc:38] TF-TRT Warning: Could not find TensorRT\n"
     ]
    }
   ],
   "source": [
    "from deepface import DeepFace\n",
    "import os\n",
    "import glob\n",
    "import cv2\n",
    "\n",
    "backends = [\n",
    "  'opencv', \n",
    "  'ssd', \n",
    "  'dlib', \n",
    "  'mtcnn', \n",
    "  'retinaface', \n",
    "  'mediapipe',\n",
    "  'yolov8',\n",
    "  'yunet',\n",
    "  'fastmtcnn',\n",
    "]\n",
    "\n",
    "def list_image_paths(directory):\n",
    "    image_paths = []\n",
    "    for filename in os.listdir(directory):\n",
    "        if filename.lower().endswith(('.png', '.jpg', '.jpeg', '.gif', '.bmp')):\n",
    "            image_paths.append(os.path.join(directory, filename))\n",
    "    return image_paths\n",
    "\n"
   ]
  },
  {
   "cell_type": "code",
   "execution_count": 2,
   "id": "767a3980",
   "metadata": {},
   "outputs": [
    {
     "name": "stdout",
     "output_type": "stream",
     "text": [
      "24-03-10 00:13:16 - find function duration 1.0596656799316406 seconds\n",
      "24-03-10 00:13:16 - find function duration 0.304332971572876 seconds\n",
      "24-03-10 00:13:17 - find function duration 0.29559826850891113 seconds\n",
      "24-03-10 00:13:17 - find function duration 0.2992589473724365 seconds\n",
      "24-03-10 00:13:17 - find function duration 0.2881777286529541 seconds\n",
      "24-03-10 00:13:18 - find function duration 0.28558826446533203 seconds\n",
      "24-03-10 00:13:18 - find function duration 0.2958526611328125 seconds\n",
      "24-03-10 00:13:18 - find function duration 0.29328155517578125 seconds\n"
     ]
    }
   ],
   "source": [
    "\n",
    "directory_path = './test_data'\n",
    "image_paths = list_image_paths(directory_path)\n",
    "picture_matches = {}\n",
    "for img in image_paths:\n",
    "    dfs = DeepFace.find(img_path = img, \n",
    "          db_path = \"./test_data\", \n",
    "          distance_metric = 'cosine')\n",
    "    picture_matches[img] = dfs\n",
    "    "
   ]
  },
  {
   "cell_type": "code",
   "execution_count": 31,
   "id": "f00bcbe8",
   "metadata": {},
   "outputs": [
    {
     "name": "stdout",
     "output_type": "stream",
     "text": [
      "Matches for: ./test_data/Aaron_Eckhart_0001.jpg\n",
      "./test_data/Aaron_Eckhart_0001.jpg\n",
      "Matches for: ./test_data/Aaron_Peirsol_0004.jpg\n",
      "./test_data/Aaron_Peirsol_0004.jpg\n",
      "./test_data/Aaron_Peirsol_0003.jpg\n",
      "./test_data/Aaron_Peirsol_0002.jpg\n",
      "./test_data/Aaron_Peirsol_0001.jpg\n",
      "Matches for: ./test_data/Aaron_Peirsol_0001.jpg\n",
      "./test_data/Aaron_Peirsol_0001.jpg\n",
      "./test_data/Aaron_Peirsol_0002.jpg\n",
      "./test_data/Aaron_Peirsol_0003.jpg\n",
      "./test_data/Aaron_Peirsol_0004.jpg\n",
      "Matches for: ./test_data/Aaron_Patterson_0001.jpg\n",
      "./test_data/Aaron_Patterson_0001.jpg\n",
      "Matches for: ./test_data/Aaron_Peirsol_0002.jpg\n",
      "./test_data/Aaron_Peirsol_0002.jpg\n",
      "./test_data/Aaron_Peirsol_0001.jpg\n",
      "./test_data/Aaron_Peirsol_0003.jpg\n",
      "./test_data/Aaron_Peirsol_0004.jpg\n",
      "Matches for: ./test_data/Aaron_Peirsol_0003.jpg\n",
      "./test_data/Aaron_Peirsol_0003.jpg\n",
      "./test_data/Aaron_Peirsol_0001.jpg\n",
      "./test_data/Aaron_Peirsol_0004.jpg\n",
      "./test_data/Aaron_Peirsol_0002.jpg\n",
      "Matches for: ./test_data/Aaron_Pena_0001.jpg\n",
      "./test_data/Aaron_Pena_0001.jpg\n",
      "Matches for: ./test_data/Aaron_Guiel_0001.jpg\n",
      "./test_data/Aaron_Guiel_0001.jpg\n"
     ]
    }
   ],
   "source": [
    "import cv2\n",
    "from uuid import uuid4\n",
    "\n",
    "test_path_name = 'test_results_' + str(uuid4()) +'/'\n",
    "os.makedirs(test_path_name, exist_ok=True)\n",
    "for img, matches in picture_matches.items():\n",
    "    # Create a folder for each image\n",
    "    folder_name = os.path.splitext(img)[0]  # Extracting the image name without extension\n",
    "    full_path_name = test_path_name + folder_name\n",
    "    os.makedirs(full_path_, exist_ok=True)  # Creating a folder for the image if it doesn't exist\n",
    "    \n",
    "    for match_group in matches:\n",
    "        print('Matches for: ' + img)\n",
    "        for match in match_group['identity']:\n",
    "            print(match)\n",
    "            match_img = cv2.imread(match)\n",
    "            match_name = os.path.basename(match)\n",
    "            cv2.imwrite(os.path.join(folder_name, match_name), match_img)\n",
    "    \n",
    "    "
   ]
  },
  {
   "cell_type": "code",
   "execution_count": null,
   "id": "3c6930f0",
   "metadata": {},
   "outputs": [],
   "source": []
  }
 ],
 "metadata": {
  "kernelspec": {
   "display_name": "Python 3 (ipykernel)",
   "language": "python",
   "name": "python3"
  },
  "language_info": {
   "codemirror_mode": {
    "name": "ipython",
    "version": 3
   },
   "file_extension": ".py",
   "mimetype": "text/x-python",
   "name": "python",
   "nbconvert_exporter": "python",
   "pygments_lexer": "ipython3",
   "version": "3.10.12"
  }
 },
 "nbformat": 4,
 "nbformat_minor": 5
}
